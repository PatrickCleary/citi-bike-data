{
 "cells": [
  {
   "cell_type": "code",
   "execution_count": 13,
   "metadata": {},
   "outputs": [],
   "source": [
    "import requests\n",
    "\n",
    "\n",
    "NYC_OPEN_DATA_URLS = {\n",
    "    \"nyc_bike_lanes\": \"https://data.cityofnewyork.us/resource/mzxg-pwib.geojson\",\n",
    "}"
   ]
  },
  {
   "cell_type": "code",
   "execution_count": 14,
   "metadata": {},
   "outputs": [],
   "source": [
    "import os\n",
    "from supabase import create_client\n",
    "import dotenv\n",
    "dotenv.load_dotenv()\n",
    "url = os.getenv(\"SUPABASE_URL\")\n",
    "key = os.getenv(\"SUPABASE_ANON_KEY\")\n",
    "supabase = create_client(url, key)\n",
    "\n",
    "def upload_to_supabase(file_path, bucket_name):\n",
    "    # Read the file\n",
    "    with open(file_path, \"rb\") as file:\n",
    "        # Upload the file to the specified bucket\n",
    "        response = supabase.storage.from_(bucket_name).upload(file_path, file)\n",
    "        return response\n",
    "\n",
    "# Example usage\n",
    "# upload_to_supabase('./layer_outputs/nj_rail_stations.pmtiles', 'your_bucket_name')"
   ]
  },
  {
   "cell_type": "code",
   "execution_count": 15,
   "metadata": {},
   "outputs": [],
   "source": [
    "import requests\n",
    "import json\n",
    "import subprocess\n",
    "import os\n",
    "\n",
    "\n",
    "def nyc_opendata_to_pmtiles(name, geojson_url):\n",
    "    \"\"\"\n",
    "    Downloads GeoJSON data from NYC Open Data portal and converts to PMTiles.\n",
    "    \n",
    "    Args:\n",
    "        name: Output filename (without extension)\n",
    "        geojson_url: Direct URL to the GeoJSON endpoint\n",
    "    \"\"\"\n",
    "    print(f\"Downloading {name} from NYC Open Data...\")\n",
    "    \n",
    "    # NYC Open Data supports pagination via $limit and $offset parameters\n",
    "    all_features = []\n",
    "    offset = 0\n",
    "    limit = 50000  # NYC Open Data allows up to 50,000 records per request\n",
    "    \n",
    "    while True:\n",
    "        # Add pagination parameters to URL\n",
    "        paginated_url = f\"{geojson_url}?$limit={limit}&$offset={offset}\"\n",
    "        \n",
    "        print(f\"  Fetching records {offset} to {offset + limit}...\")\n",
    "        response = requests.get(paginated_url)\n",
    "        response.raise_for_status()\n",
    "        \n",
    "        geojson_data = response.json()\n",
    "        features = geojson_data.get('features', [])\n",
    "        \n",
    "        if not features:\n",
    "            break\n",
    "        \n",
    "        all_features.extend(features)\n",
    "        print(f\"  Total features collected: {len(all_features)}\")\n",
    "        \n",
    "        # If we got fewer features than the limit, we've reached the end\n",
    "        if len(features) < limit:\n",
    "            break\n",
    "        \n",
    "        offset += limit\n",
    "    \n",
    "    # Construct complete GeoJSON\n",
    "    complete_geojson = {\n",
    "        \"type\": \"FeatureCollection\",\n",
    "        \"features\": all_features\n",
    "    }\n",
    "    \n",
    "    print(f\"✓ Downloaded {len(all_features)} total features\")\n",
    "    \n",
    "    # Create output directory\n",
    "    os.makedirs(\"./geo_layers\", exist_ok=True)\n",
    "    \n",
    "    # Save GeoJSON\n",
    "    geojson_path = f\"./geo_layers/{name}.geojson\"\n",
    "    with open(geojson_path, \"w\") as f:\n",
    "        json.dump(complete_geojson, f)\n",
    "    \n",
    "    print(f\"✓ Saved to {geojson_path}\")\n",
    "    \n",
    "    # Convert to PMTiles using tippecanoe\n",
    "    pmtiles_path = f\"./geo_layers/{name}.pmtiles\"\n",
    "    \n",
    "    print(f\"Converting to PMTiles...\")\n",
    "    subprocess.run(\n",
    "        [\n",
    "            \"tippecanoe\",\n",
    "            \"-o\",\n",
    "            pmtiles_path,\n",
    "            \"-zg\",\n",
    "            \"--drop-densest-as-needed\",\n",
    "            geojson_path,\n",
    "            \"--force\",\n",
    "        ],\n",
    "        check=True\n",
    "    )\n",
    "    \n",
    "    print(f\"✓ Created {pmtiles_path}\")\n",
    "\n",
    "\n",
    "# # Download NYC bike lanes\n",
    "# nyc_opendata_to_pmtiles(\n",
    "#     \"nyc_bike_lanes\",\n",
    "#     \"https://data.cityofnewyork.us/resource/mzxg-pwib.geojson\"\n",
    "# )"
   ]
  },
  {
   "cell_type": "code",
   "execution_count": 18,
   "metadata": {},
   "outputs": [
    {
     "name": "stdout",
     "output_type": "stream",
     "text": [
      "Downloading nyc_bike_lanes from NYC Open Data...\n",
      "  Fetching records 0 to 50000...\n",
      "  Total features collected: 28983\n",
      "✓ Downloaded 28983 total features\n",
      "✓ Saved to ./geo_layers/nyc_bike_lanes.geojson\n",
      "Converting to PMTiles...\n"
     ]
    },
    {
     "name": "stderr",
     "output_type": "stream",
     "text": [
      "For layer 0, using name \"nyc_bike_lanes\"\n",
      "28983 features, 4139298 bytes of geometry and attributes, 341046 bytes of string pool, 0 bytes of vertices, 0 bytes of nodes\n",
      "Choosing a maxzoom of -z11 for features typically 297 feet (91 meters) apart, and at least 50 feet (15 meters) apart\n",
      "Choosing a maxzoom of -z12 for resolution of about 65 feet (20 meters) within features\n",
      "  98.6%  12/1206/1539  \n",
      "  100.0%  12/1203/1543  \r"
     ]
    },
    {
     "name": "stdout",
     "output_type": "stream",
     "text": [
      "✓ Created ./geo_layers/nyc_bike_lanes.pmtiles\n"
     ]
    }
   ],
   "source": [
    "BUCKET_NAME = \"citi-bike-data-bucket\"\n",
    "\n",
    "for layer_name, url in NYC_OPEN_DATA_URLS.items():\n",
    "    nyc_opendata_to_pmtiles(layer_name, url)\n",
    "    file_path = f\"./geo_layers/{layer_name}.pmtiles\"\n",
    "    upload_to_supabase(file_path, BUCKET_NAME)"
   ]
  }
 ],
 "metadata": {
  "kernelspec": {
   "display_name": "sql-alchemy-test",
   "language": "python",
   "name": "python3"
  },
  "language_info": {
   "codemirror_mode": {
    "name": "ipython",
    "version": 3
   },
   "file_extension": ".py",
   "mimetype": "text/x-python",
   "name": "python",
   "nbconvert_exporter": "python",
   "pygments_lexer": "ipython3",
   "version": "3.12.6"
  }
 },
 "nbformat": 4,
 "nbformat_minor": 2
}
