{
 "cells": [
  {
   "cell_type": "markdown",
   "metadata": {},
   "source": [
    "### Layer Generation\n",
    "\n",
    "This file converts arcgis FeatureServer data into pmtiles and uploads them to a supabase bucket.\n",
    "\n",
    "To add a new file: Add the arcgis URL path to the `LAYER_MAP` object.\n"
   ]
  },
  {
   "cell_type": "code",
   "execution_count": 2,
   "metadata": {},
   "outputs": [],
   "source": [
    "LAYER_MAP = {\n",
    "    # \"path_lines\": \"https://services3.arcgis.com/Stu7jwuXrnM0myT0/arcgis/rest/services/PATH_Train/FeatureServer/0\",\n",
    "    # \"path_stations\": \"https://services3.arcgis.com/Stu7jwuXrnM0myT0/arcgis/rest/services/PATH_Train/FeatureServer/0\",\n",
    "    # \"nyc_lines\": \"https://services5.arcgis.com/OKgEWPlJhc3vFb8C/arcgis/rest/services/MTA_Subway_Routes_Stops/FeatureServer/1\",\n",
    "    # \"nyc_stations\": \"https://services5.arcgis.com/OKgEWPlJhc3vFb8C/arcgis/rest/services/MTA_Subway_Routes_Stops/FeatureServer/0\",\n",
    "    # \"nj_light_rail_lines\": \"https://services6.arcgis.com/M0t0HPE53pFK525U/arcgis/rest/services/NJTransit_Light_Rail/FeatureServer/0\",\n",
    "    # \"nj_light_rail_stations\": \"https://services6.arcgis.com/M0t0HPE53pFK525U/arcgis/rest/services/NJTransit_Light_Rail_Stations/FeatureServer/0\",\n",
    "    # \"nj_rail_lines\": \"https://services6.arcgis.com/M0t0HPE53pFK525U/arcgis/rest/services/NJTRANSIT_RAIL_LINES_1/FeatureServer/0\",\n",
    "    # \"nj_rail_stations\": \"https://services6.arcgis.com/M0t0HPE53pFK525U/arcgis/rest/services/NJTransit_Rail_Stations/FeatureServer/0\",\n",
    "    \"nyc_bike_lanes\": \"https://services9.arcgis.com/gbyGLR8owy6Q4kUA/arcgis/rest/services/NYC_Bike_Lane_Network/FeatureServer/0\",\n",
    "}"
   ]
  },
  {
   "cell_type": "code",
   "execution_count": 3,
   "metadata": {},
   "outputs": [],
   "source": [
    "import os\n",
    "from supabase import create_client\n",
    "import dotenv\n",
    "dotenv.load_dotenv()\n",
    "url = os.getenv(\"SUPABASE_URL\")\n",
    "key = os.getenv(\"SUPABASE_ANON_KEY\")\n",
    "supabase = create_client(url, key)\n",
    "\n",
    "def upload_to_supabase(file_path, bucket_name):\n",
    "    # Read the file\n",
    "    with open(file_path, \"rb\") as file:\n",
    "        # Upload the file to the specified bucket\n",
    "        response = supabase.storage.from_(bucket_name).upload(file_path, file)\n",
    "        return response\n",
    "\n",
    "# Example usage\n",
    "# upload_to_supabase('./layer_outputs/nj_rail_stations.pmtiles', 'your_bucket_name')"
   ]
  },
  {
   "cell_type": "code",
   "execution_count": 5,
   "metadata": {},
   "outputs": [
    {
     "name": "stdout",
     "output_type": "stream",
     "text": [
      "Fetching nyc_bike_lanes with max 2000 records per request...\n",
      "  Fetched 2000 features so far...\n",
      "  Fetched 4000 features so far...\n",
      "  Fetched 6000 features so far...\n",
      "  Fetched 8000 features so far...\n",
      "  Fetched 10000 features so far...\n",
      "  Fetched 12000 features so far...\n",
      "  Fetched 14000 features so far...\n",
      "  Fetched 16000 features so far...\n",
      "  Fetched 16672 features so far...\n",
      "Total features fetched: 16672\n"
     ]
    },
    {
     "name": "stderr",
     "output_type": "stream",
     "text": [
      "For layer 0, using name \"nyc_bike_lanes\"\n",
      "16672 features, 1844848 bytes of geometry and attributes, 590875 bytes of string pool, 0 bytes of vertices, 0 bytes of nodes\n",
      "Choosing a maxzoom of -z11 for features typically 345 feet (105 meters) apart, and at least 57 feet (18 meters) apart\n",
      "  97.8%  11/603/769  \r"
     ]
    },
    {
     "name": "stdout",
     "output_type": "stream",
     "text": [
      "✓ Created nyc_bike_lanes.pmtiles\n"
     ]
    },
    {
     "name": "stderr",
     "output_type": "stream",
     "text": [
      "\n",
      "  100.0%  11/601/771  \r"
     ]
    }
   ],
   "source": [
    "import requests\n",
    "import json\n",
    "import subprocess\n",
    "import os\n",
    "\n",
    "\n",
    "def arcgis_url_to_pmtiles(name, url):\n",
    "    query_url = f\"{url}/query\"\n",
    "    \n",
    "    all_features = []\n",
    "    offset = 0\n",
    "    max_record_count = 1000  # Common default, but we'll detect it\n",
    "    \n",
    "    # First, get the service metadata to find the actual max record count\n",
    "    metadata_response = requests.get(f\"{url}?f=json\")\n",
    "    metadata = metadata_response.json()\n",
    "    max_record_count = metadata.get('maxRecordCount', 1000)\n",
    "    \n",
    "    print(f\"Fetching {name} with max {max_record_count} records per request...\")\n",
    "    \n",
    "    while True:\n",
    "        params = {\n",
    "            \"where\": \"1=1\",\n",
    "            \"outFields\": \"*\",\n",
    "            \"f\": \"geojson\",\n",
    "            \"returnGeometry\": \"true\",\n",
    "            \"resultOffset\": offset,\n",
    "            \"resultRecordCount\": max_record_count\n",
    "        }\n",
    "        \n",
    "        response = requests.get(query_url, params=params)\n",
    "        geojson_data = response.json()\n",
    "        \n",
    "        features = geojson_data.get('features', [])\n",
    "        \n",
    "        if not features:\n",
    "            break\n",
    "            \n",
    "        all_features.extend(features)\n",
    "        print(f\"  Fetched {len(all_features)} features so far...\")\n",
    "        \n",
    "        # If we got fewer features than the max, we've reached the end\n",
    "        if len(features) < max_record_count:\n",
    "            break\n",
    "            \n",
    "        offset += max_record_count\n",
    "    \n",
    "    # Construct complete GeoJSON\n",
    "    complete_geojson = {\n",
    "        \"type\": \"FeatureCollection\",\n",
    "        \"features\": all_features\n",
    "    }\n",
    "    \n",
    "    print(f\"Total features fetched: {len(all_features)}\")\n",
    "    \n",
    "    # Save GeoJSON\n",
    "    os.makedirs(\"./geo_layers\", exist_ok=True)\n",
    "    with open(f\"./geo_layers/{name}.geojson\", \"w\") as f:\n",
    "        json.dump(complete_geojson, f)\n",
    "    \n",
    "    # Convert to PMTiles using tippecanoe\n",
    "    subprocess.run(\n",
    "        [\n",
    "            \"tippecanoe\",\n",
    "            \"-o\",\n",
    "            f\"./geo_layers/{name}.pmtiles\",\n",
    "            \"-zg\",\n",
    "            \"--drop-densest-as-needed\",\n",
    "            f\"./geo_layers/{name}.geojson\",\n",
    "            \"--force\",\n",
    "        ]\n",
    "    )\n",
    "    \n",
    "    print(f\"✓ Created {name}.pmtiles\")\n",
    "\n",
    "\n",
    "# Usage\n",
    "arcgis_url_to_pmtiles(\n",
    "    \"nyc_bike_lanes\",\n",
    "    \"https://services9.arcgis.com/gbyGLR8owy6Q4kUA/arcgis/rest/services/NYC_Bike_Lane_Network/FeatureServer/0\"\n",
    ")"
   ]
  },
  {
   "cell_type": "code",
   "execution_count": 6,
   "metadata": {},
   "outputs": [
    {
     "name": "stdout",
     "output_type": "stream",
     "text": [
      "Fetching nyc_bike_lanes with max 2000 records per request...\n",
      "  Fetched 2000 features so far...\n",
      "  Fetched 4000 features so far...\n",
      "  Fetched 6000 features so far...\n",
      "  Fetched 8000 features so far...\n",
      "  Fetched 10000 features so far...\n",
      "  Fetched 12000 features so far...\n",
      "  Fetched 14000 features so far...\n",
      "  Fetched 16000 features so far...\n",
      "  Fetched 16672 features so far...\n",
      "Total features fetched: 16672\n"
     ]
    },
    {
     "name": "stderr",
     "output_type": "stream",
     "text": [
      "For layer 0, using name \"nyc_bike_lanes\"\n",
      "16672 features, 1844848 bytes of geometry and attributes, 590875 bytes of string pool, 0 bytes of vertices, 0 bytes of nodes\n",
      "Choosing a maxzoom of -z11 for features typically 345 feet (105 meters) apart, and at least 57 feet (18 meters) apart\n",
      "  97.8%  11/603/769  \n",
      "  100.0%  11/601/771  \r"
     ]
    },
    {
     "name": "stdout",
     "output_type": "stream",
     "text": [
      "✓ Created nyc_bike_lanes.pmtiles\n"
     ]
    }
   ],
   "source": [
    "#This will fail if the file already exists. Must delete first.\n",
    "\n",
    "BUCKET_NAME = \"citi-bike-data-bucket\"\n",
    "for layer_name, arcgis_url in LAYER_MAP.items():\n",
    "    arcgis_url_to_pmtiles(layer_name, arcgis_url)\n",
    "    file_path = f\"./geo_layers/{layer_name}.pmtiles\"\n",
    "    upload_response = upload_to_supabase(file_path, BUCKET_NAME)"
   ]
  },
  {
   "cell_type": "code",
   "execution_count": null,
   "metadata": {},
   "outputs": [],
   "source": []
  }
 ],
 "metadata": {
  "kernelspec": {
   "display_name": "sql-alchemy-test",
   "language": "python",
   "name": "python3"
  },
  "language_info": {
   "codemirror_mode": {
    "name": "ipython",
    "version": 3
   },
   "file_extension": ".py",
   "mimetype": "text/x-python",
   "name": "python",
   "nbconvert_exporter": "python",
   "pygments_lexer": "ipython3",
   "version": "3.12.6"
  }
 },
 "nbformat": 4,
 "nbformat_minor": 2
}
