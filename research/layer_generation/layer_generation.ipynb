{
 "cells": [
  {
   "cell_type": "markdown",
   "metadata": {},
   "source": [
    "### Layer Generation\n",
    "\n",
    "This file converts arcgis FeatureServer data into pmtiles and uploads them to a supabase bucket.\n",
    "\n",
    "To add a new file: Add the arcgis URL path to the `LAYER_MAP` object.\n"
   ]
  },
  {
   "cell_type": "code",
   "execution_count": 8,
   "metadata": {},
   "outputs": [],
   "source": [
    "LAYER_MAP = {\n",
    "    # \"path_lines\": \"https://services3.arcgis.com/Stu7jwuXrnM0myT0/arcgis/rest/services/PATH_Train/FeatureServer/0\",\n",
    "    # \"path_stations\": \"https://services3.arcgis.com/Stu7jwuXrnM0myT0/arcgis/rest/services/PATH_Train/FeatureServer/0\",\n",
    "    # \"nyc_lines\": \"https://services5.arcgis.com/OKgEWPlJhc3vFb8C/arcgis/rest/services/MTA_Subway_Routes_Stops/FeatureServer/1\",\n",
    "    # \"nyc_stations\": \"https://services5.arcgis.com/OKgEWPlJhc3vFb8C/arcgis/rest/services/MTA_Subway_Routes_Stops/FeatureServer/0\",\n",
    "    # \"nj_light_rail_lines\": \"https://services6.arcgis.com/M0t0HPE53pFK525U/arcgis/rest/services/NJTransit_Light_Rail/FeatureServer/0\",\n",
    "    # \"nj_light_rail_stations\": \"https://services6.arcgis.com/M0t0HPE53pFK525U/arcgis/rest/services/NJTransit_Light_Rail_Stations/FeatureServer/0\",\n",
    "    # \"nj_rail_lines\": \"https://services6.arcgis.com/M0t0HPE53pFK525U/arcgis/rest/services/NJTRANSIT_RAIL_LINES_1/FeatureServer/0\",\n",
    "    # \"nj_rail_stations\": \"https://services6.arcgis.com/M0t0HPE53pFK525U/arcgis/rest/services/NJTransit_Rail_Stations/FeatureServer/0\",\n",
    "    \"nyc_bike_lanes\": \"https://services9.arcgis.com/gbyGLR8owy6Q4kUA/arcgis/rest/services/NYC_Bike_Lane_Network/FeatureServer/0\",\n",
    "}"
   ]
  },
  {
   "cell_type": "code",
   "execution_count": 9,
   "metadata": {},
   "outputs": [],
   "source": [
    "import os\n",
    "from supabase import create_client\n",
    "import dotenv\n",
    "dotenv.load_dotenv()\n",
    "url = os.getenv(\"SUPABASE_URL\")\n",
    "key = os.getenv(\"SUPABASE_ANON_KEY\")\n",
    "supabase = create_client(url, key)\n",
    "\n",
    "def upload_to_supabase(file_path, bucket_name):\n",
    "    # Read the file\n",
    "    with open(file_path, \"rb\") as file:\n",
    "        # Upload the file to the specified bucket\n",
    "        response = supabase.storage.from_(bucket_name).upload(file_path, file)\n",
    "        return response\n",
    "\n",
    "# Example usage\n",
    "# upload_to_supabase('./layer_outputs/nj_rail_stations.pmtiles', 'your_bucket_name')"
   ]
  },
  {
   "cell_type": "code",
   "execution_count": 10,
   "metadata": {},
   "outputs": [],
   "source": [
    "import requests\n",
    "import json\n",
    "import subprocess\n",
    "import os\n",
    "\n",
    "\n",
    "def arcgis_url_to_pmtiles(name, url):\n",
    "    query_url = f\"{url}/query\"\n",
    "\n",
    "    params = {\n",
    "        \"where\": \"1=1\",\n",
    "        \"outFields\": \"*\",\n",
    "        \"f\": \"geojson\",\n",
    "        \"returnGeometry\": \"true\",\n",
    "    }\n",
    "\n",
    "    response = requests.get(query_url, params=params)\n",
    "    geojson_data = response.json()\n",
    "\n",
    "    # Save GeoJSON\n",
    "    with open(f\"./geo_layers/{name}.geojson\", \"w\") as f:\n",
    "        json.dump(geojson_data, f)\n",
    "\n",
    "    # Convert to PMTiles using tippecanoe\n",
    "    subprocess.run(\n",
    "        [\n",
    "            \"tippecanoe\",\n",
    "            \"-o\",\n",
    "            f\"./geo_layers/{name}.pmtiles\",\n",
    "            \"-zg\",  # Auto-determine zoom levels\n",
    "            \"--drop-densest-as-needed\",\n",
    "            f\"./geo_layers/{name}.geojson\",\n",
    "            \"--force\",\n",
    "        ]\n",
    "    )"
   ]
  },
  {
   "cell_type": "code",
   "execution_count": 11,
   "metadata": {},
   "outputs": [
    {
     "name": "stderr",
     "output_type": "stream",
     "text": [
      "For layer 0, using name \"nyc_bike_lanes\"\n",
      "2000 features, 210241 bytes of geometry and attributes, 70564 bytes of string pool, 0 bytes of vertices, 0 bytes of nodes\n",
      "Choosing a maxzoom of -z9 for features typically 712 feet (217 meters) apart, and at least 165 feet (51 meters) apart\n",
      "Choosing a maxzoom of -z10 for resolution of about 477 feet (145 meters) within features\n",
      "  99.9%  10/301/385  \n",
      "  100.0%  10/300/385  \r"
     ]
    },
    {
     "ename": "StorageApiError",
     "evalue": "{'statusCode': 409, 'error': Duplicate, 'message': The resource already exists}",
     "output_type": "error",
     "traceback": [
      "\u001b[31m---------------------------------------------------------------------------\u001b[39m",
      "\u001b[31mHTTPStatusError\u001b[39m                           Traceback (most recent call last)",
      "\u001b[36mFile \u001b[39m\u001b[32m~/.pyenv/versions/sql-alchemy-test/lib/python3.12/site-packages/storage3/_sync/file_api.py:53\u001b[39m, in \u001b[36mSyncBucketActionsMixin._request\u001b[39m\u001b[34m(self, method, url, headers, json, files, **kwargs)\u001b[39m\n\u001b[32m     50\u001b[39m     response = \u001b[38;5;28mself\u001b[39m._client.request(\n\u001b[32m     51\u001b[39m         method, url, headers=headers \u001b[38;5;129;01mor\u001b[39;00m {}, json=json, files=files, **kwargs\n\u001b[32m     52\u001b[39m     )\n\u001b[32m---> \u001b[39m\u001b[32m53\u001b[39m     \u001b[43mresponse\u001b[49m\u001b[43m.\u001b[49m\u001b[43mraise_for_status\u001b[49m\u001b[43m(\u001b[49m\u001b[43m)\u001b[49m\n\u001b[32m     54\u001b[39m \u001b[38;5;28;01mexcept\u001b[39;00m HTTPStatusError \u001b[38;5;28;01mas\u001b[39;00m exc:\n",
      "\u001b[36mFile \u001b[39m\u001b[32m~/.pyenv/versions/sql-alchemy-test/lib/python3.12/site-packages/httpx/_models.py:829\u001b[39m, in \u001b[36mResponse.raise_for_status\u001b[39m\u001b[34m(self)\u001b[39m\n\u001b[32m    828\u001b[39m message = message.format(\u001b[38;5;28mself\u001b[39m, error_type=error_type)\n\u001b[32m--> \u001b[39m\u001b[32m829\u001b[39m \u001b[38;5;28;01mraise\u001b[39;00m HTTPStatusError(message, request=request, response=\u001b[38;5;28mself\u001b[39m)\n",
      "\u001b[31mHTTPStatusError\u001b[39m: Client error '400 Bad Request' for url 'https://kevndteqglsoslznrntz.supabase.co/storage/v1/object/citi-bike-data-bucket/geo_layers/nyc_bike_lanes.pmtiles'\nFor more information check: https://developer.mozilla.org/en-US/docs/Web/HTTP/Status/400",
      "\nDuring handling of the above exception, another exception occurred:\n",
      "\u001b[31mStorageApiError\u001b[39m                           Traceback (most recent call last)",
      "\u001b[36mCell\u001b[39m\u001b[36m \u001b[39m\u001b[32mIn[11]\u001b[39m\u001b[32m, line 7\u001b[39m\n\u001b[32m      5\u001b[39m arcgis_url_to_pmtiles(layer_name, arcgis_url)\n\u001b[32m      6\u001b[39m file_path = \u001b[33mf\u001b[39m\u001b[33m\"\u001b[39m\u001b[33m./geo_layers/\u001b[39m\u001b[38;5;132;01m{\u001b[39;00mlayer_name\u001b[38;5;132;01m}\u001b[39;00m\u001b[33m.pmtiles\u001b[39m\u001b[33m\"\u001b[39m\n\u001b[32m----> \u001b[39m\u001b[32m7\u001b[39m upload_response = \u001b[43mupload_to_supabase\u001b[49m\u001b[43m(\u001b[49m\u001b[43mfile_path\u001b[49m\u001b[43m,\u001b[49m\u001b[43m \u001b[49m\u001b[43mBUCKET_NAME\u001b[49m\u001b[43m)\u001b[49m\n",
      "\u001b[36mCell\u001b[39m\u001b[36m \u001b[39m\u001b[32mIn[9]\u001b[39m\u001b[32m, line 13\u001b[39m, in \u001b[36mupload_to_supabase\u001b[39m\u001b[34m(file_path, bucket_name)\u001b[39m\n\u001b[32m      9\u001b[39m \u001b[38;5;28;01mdef\u001b[39;00m\u001b[38;5;250m \u001b[39m\u001b[34mupload_to_supabase\u001b[39m(file_path, bucket_name):\n\u001b[32m     10\u001b[39m     \u001b[38;5;66;03m# Read the file\u001b[39;00m\n\u001b[32m     11\u001b[39m     \u001b[38;5;28;01mwith\u001b[39;00m \u001b[38;5;28mopen\u001b[39m(file_path, \u001b[33m\"\u001b[39m\u001b[33mrb\u001b[39m\u001b[33m\"\u001b[39m) \u001b[38;5;28;01mas\u001b[39;00m file:\n\u001b[32m     12\u001b[39m         \u001b[38;5;66;03m# Upload the file to the specified bucket\u001b[39;00m\n\u001b[32m---> \u001b[39m\u001b[32m13\u001b[39m         response = \u001b[43msupabase\u001b[49m\u001b[43m.\u001b[49m\u001b[43mstorage\u001b[49m\u001b[43m.\u001b[49m\u001b[43mfrom_\u001b[49m\u001b[43m(\u001b[49m\u001b[43mbucket_name\u001b[49m\u001b[43m)\u001b[49m\u001b[43m.\u001b[49m\u001b[43mupload\u001b[49m\u001b[43m(\u001b[49m\u001b[43mfile_path\u001b[49m\u001b[43m,\u001b[49m\u001b[43m \u001b[49m\u001b[43mfile\u001b[49m\u001b[43m)\u001b[49m\n\u001b[32m     14\u001b[39m         \u001b[38;5;28;01mreturn\u001b[39;00m response\n",
      "\u001b[36mFile \u001b[39m\u001b[32m~/.pyenv/versions/sql-alchemy-test/lib/python3.12/site-packages/storage3/_sync/file_api.py:534\u001b[39m, in \u001b[36mSyncBucketActionsMixin.upload\u001b[39m\u001b[34m(self, path, file, file_options)\u001b[39m\n\u001b[32m    515\u001b[39m \u001b[38;5;28;01mdef\u001b[39;00m\u001b[38;5;250m \u001b[39m\u001b[34mupload\u001b[39m(\n\u001b[32m    516\u001b[39m     \u001b[38;5;28mself\u001b[39m,\n\u001b[32m    517\u001b[39m     path: \u001b[38;5;28mstr\u001b[39m,\n\u001b[32m    518\u001b[39m     file: Union[BufferedReader, \u001b[38;5;28mbytes\u001b[39m, FileIO, \u001b[38;5;28mstr\u001b[39m, Path],\n\u001b[32m    519\u001b[39m     file_options: Optional[FileOptions] = \u001b[38;5;28;01mNone\u001b[39;00m,\n\u001b[32m    520\u001b[39m ) -> UploadResponse:\n\u001b[32m    521\u001b[39m \u001b[38;5;250m    \u001b[39m\u001b[33;03m\"\"\"\u001b[39;00m\n\u001b[32m    522\u001b[39m \u001b[33;03m    Uploads a file to an existing bucket.\u001b[39;00m\n\u001b[32m    523\u001b[39m \n\u001b[32m   (...)\u001b[39m\u001b[32m    532\u001b[39m \u001b[33;03m        HTTP headers.\u001b[39;00m\n\u001b[32m    533\u001b[39m \u001b[33;03m    \"\"\"\u001b[39;00m\n\u001b[32m--> \u001b[39m\u001b[32m534\u001b[39m     \u001b[38;5;28;01mreturn\u001b[39;00m \u001b[38;5;28;43mself\u001b[39;49m\u001b[43m.\u001b[49m\u001b[43m_upload_or_update\u001b[49m\u001b[43m(\u001b[49m\u001b[33;43m\"\u001b[39;49m\u001b[33;43mPOST\u001b[39;49m\u001b[33;43m\"\u001b[39;49m\u001b[43m,\u001b[49m\u001b[43m \u001b[49m\u001b[43mpath\u001b[49m\u001b[43m,\u001b[49m\u001b[43m \u001b[49m\u001b[43mfile\u001b[49m\u001b[43m,\u001b[49m\u001b[43m \u001b[49m\u001b[43mfile_options\u001b[49m\u001b[43m)\u001b[49m\n",
      "\u001b[36mFile \u001b[39m\u001b[32m~/.pyenv/versions/sql-alchemy-test/lib/python3.12/site-packages/storage3/_sync/file_api.py:507\u001b[39m, in \u001b[36mSyncBucketActionsMixin._upload_or_update\u001b[39m\u001b[34m(self, method, path, file, file_options)\u001b[39m\n\u001b[32m    497\u001b[39m     files = {\n\u001b[32m    498\u001b[39m         \u001b[33m\"\u001b[39m\u001b[33mfile\u001b[39m\u001b[33m\"\u001b[39m: (\n\u001b[32m    499\u001b[39m             filename,\n\u001b[32m   (...)\u001b[39m\u001b[32m    502\u001b[39m         )\n\u001b[32m    503\u001b[39m     }\n\u001b[32m    505\u001b[39m _path = \u001b[38;5;28mself\u001b[39m._get_final_path(path)\n\u001b[32m--> \u001b[39m\u001b[32m507\u001b[39m response = \u001b[38;5;28;43mself\u001b[39;49m\u001b[43m.\u001b[49m\u001b[43m_request\u001b[49m\u001b[43m(\u001b[49m\n\u001b[32m    508\u001b[39m \u001b[43m    \u001b[49m\u001b[43mmethod\u001b[49m\u001b[43m,\u001b[49m\u001b[43m \u001b[49m\u001b[33;43mf\u001b[39;49m\u001b[33;43m\"\u001b[39;49m\u001b[33;43m/object/\u001b[39;49m\u001b[38;5;132;43;01m{\u001b[39;49;00m\u001b[43m_path\u001b[49m\u001b[38;5;132;43;01m}\u001b[39;49;00m\u001b[33;43m\"\u001b[39;49m\u001b[43m,\u001b[49m\u001b[43m \u001b[49m\u001b[43mfiles\u001b[49m\u001b[43m=\u001b[49m\u001b[43mfiles\u001b[49m\u001b[43m,\u001b[49m\u001b[43m \u001b[49m\u001b[43mheaders\u001b[49m\u001b[43m=\u001b[49m\u001b[43mheaders\u001b[49m\u001b[43m,\u001b[49m\u001b[43m \u001b[49m\u001b[43mdata\u001b[49m\u001b[43m=\u001b[49m\u001b[43m_data\u001b[49m\n\u001b[32m    509\u001b[39m \u001b[43m\u001b[49m\u001b[43m)\u001b[49m\n\u001b[32m    511\u001b[39m data: UploadData = response.json()\n\u001b[32m    513\u001b[39m \u001b[38;5;28;01mreturn\u001b[39;00m UploadResponse(path=path, Key=data.get(\u001b[33m\"\u001b[39m\u001b[33mKey\u001b[39m\u001b[33m\"\u001b[39m))\n",
      "\u001b[36mFile \u001b[39m\u001b[32m~/.pyenv/versions/sql-alchemy-test/lib/python3.12/site-packages/storage3/_sync/file_api.py:56\u001b[39m, in \u001b[36mSyncBucketActionsMixin._request\u001b[39m\u001b[34m(self, method, url, headers, json, files, **kwargs)\u001b[39m\n\u001b[32m     54\u001b[39m \u001b[38;5;28;01mexcept\u001b[39;00m HTTPStatusError \u001b[38;5;28;01mas\u001b[39;00m exc:\n\u001b[32m     55\u001b[39m     resp = exc.response.json()\n\u001b[32m---> \u001b[39m\u001b[32m56\u001b[39m     \u001b[38;5;28;01mraise\u001b[39;00m StorageApiError(resp[\u001b[33m\"\u001b[39m\u001b[33mmessage\u001b[39m\u001b[33m\"\u001b[39m], resp[\u001b[33m\"\u001b[39m\u001b[33merror\u001b[39m\u001b[33m\"\u001b[39m], resp[\u001b[33m\"\u001b[39m\u001b[33mstatusCode\u001b[39m\u001b[33m\"\u001b[39m])\n\u001b[32m     58\u001b[39m \u001b[38;5;66;03m# close the resource before returning the response\u001b[39;00m\n\u001b[32m     59\u001b[39m \u001b[38;5;28;01mif\u001b[39;00m files \u001b[38;5;129;01mand\u001b[39;00m \u001b[33m\"\u001b[39m\u001b[33mfile\u001b[39m\u001b[33m\"\u001b[39m \u001b[38;5;129;01min\u001b[39;00m files \u001b[38;5;129;01mand\u001b[39;00m \u001b[38;5;28misinstance\u001b[39m(files[\u001b[33m\"\u001b[39m\u001b[33mfile\u001b[39m\u001b[33m\"\u001b[39m][\u001b[32m1\u001b[39m], BufferedReader):\n",
      "\u001b[31mStorageApiError\u001b[39m: {'statusCode': 409, 'error': Duplicate, 'message': The resource already exists}"
     ]
    }
   ],
   "source": [
    "#This will fail if the file already exists. Must delete first.\n",
    "\n",
    "BUCKET_NAME = \"citi-bike-data-bucket\"\n",
    "for layer_name, arcgis_url in LAYER_MAP.items():\n",
    "    arcgis_url_to_pmtiles(layer_name, arcgis_url)\n",
    "    file_path = f\"./geo_layers/{layer_name}.pmtiles\"\n",
    "    upload_response = upload_to_supabase(file_path, BUCKET_NAME)"
   ]
  },
  {
   "cell_type": "code",
   "execution_count": null,
   "metadata": {},
   "outputs": [],
   "source": []
  }
 ],
 "metadata": {
  "kernelspec": {
   "display_name": "sql-alchemy-test",
   "language": "python",
   "name": "python3"
  },
  "language_info": {
   "codemirror_mode": {
    "name": "ipython",
    "version": 3
   },
   "file_extension": ".py",
   "mimetype": "text/x-python",
   "name": "python",
   "nbconvert_exporter": "python",
   "pygments_lexer": "ipython3",
   "version": "3.12.6"
  }
 },
 "nbformat": 4,
 "nbformat_minor": 2
}
