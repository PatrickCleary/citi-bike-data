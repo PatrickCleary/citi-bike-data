{
 "cells": [
  {
   "cell_type": "code",
   "execution_count": 8,
   "metadata": {},
   "outputs": [],
   "source": [
    "import requests\n",
    "import json\n",
    "import subprocess\n",
    "import os\n",
    "\n",
    "# Get GeoJSON from ArcGIS\n",
    "base_url = \"https://services6.arcgis.com/M0t0HPE53pFK525U/arcgis/rest/services/NJTransit_Rail_Stations/FeatureServer/0\"\n",
    "def arcgis_url_to_pmtiles():\n",
    "    query_url = f\"{base_url}/query\"\n",
    "\n",
    "    params = {\n",
    "        'where': '1=1',\n",
    "        'outFields': '*',\n",
    "        'f': 'geojson',\n",
    "        'returnGeometry': 'true'\n",
    "    }\n",
    "\n",
    "    response = requests.get(query_url, params=params)\n",
    "    geojson_data = response.json()\n",
    "\n",
    "    # Save GeoJSON\n",
    "    with open('./layer_outputs/nj_transit_stations.geojson', 'w') as f:\n",
    "        json.dump(geojson_data, f)\n",
    "\n",
    "    # Convert to PMTiles using tippecanoe\n",
    "    subprocess.run([\n",
    "        'tippecanoe',\n",
    "        '-o', './layer_outputs/nj_transit_stations.pmtiles',\n",
    "        '-zg',  # Auto-determine zoom levels\n",
    "        '--drop-densest-as-needed',\n",
    "        './layer_outputs/nj_transit_stations.geojson'\n",
    "    ])\n",
    "    "
   ]
  },
  {
   "cell_type": "code",
   "execution_count": 9,
   "metadata": {},
   "outputs": [
    {
     "name": "stderr",
     "output_type": "stream",
     "text": [
      "For layer 0, using name \"test\"\n",
      "165 features, 12246 bytes of geometry and attributes, 9350 bytes of string pool, 0 bytes of vertices, 0 bytes of nodes\n",
      "Choosing a maxzoom of -z4 for features typically 22661 feet (6907 meters) apart, and at least 4196 feet (1279 meters) apart\n",
      "  90.6%  4/4/6  \n",
      "  100.0%  4/4/6  \r"
     ]
    }
   ],
   "source": [
    "arcgis_url_to_pmtiles()"
   ]
  },
  {
   "cell_type": "code",
   "execution_count": null,
   "metadata": {},
   "outputs": [],
   "source": []
  }
 ],
 "metadata": {
  "kernelspec": {
   "display_name": "sql-alchemy-test",
   "language": "python",
   "name": "python3"
  },
  "language_info": {
   "codemirror_mode": {
    "name": "ipython",
    "version": 3
   },
   "file_extension": ".py",
   "mimetype": "text/x-python",
   "name": "python",
   "nbconvert_exporter": "python",
   "pygments_lexer": "ipython3",
   "version": "3.12.6"
  }
 },
 "nbformat": 4,
 "nbformat_minor": 2
}
