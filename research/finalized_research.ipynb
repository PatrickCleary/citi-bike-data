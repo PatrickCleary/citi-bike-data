{
 "cells": [
  {
   "cell_type": "code",
   "execution_count": 1,
   "metadata": {},
   "outputs": [],
   "source": [
    "import requests\n",
    "import matplotlib\n",
    "import geopandas as gpd"
   ]
  },
  {
   "cell_type": "code",
   "execution_count": 2,
   "metadata": {},
   "outputs": [],
   "source": [
    "BASE_URL = \"https://s3.amazonaws.com/tripdata/\"\n",
    "month = \"202412-citibike-tripdata.zip\"\n",
    "latest_data = requests.get(BASE_URL + month)"
   ]
  },
  {
   "cell_type": "code",
   "execution_count": 37,
   "metadata": {},
   "outputs": [],
   "source": [
    "from decimal import Decimal\n",
    "from io import BytesIO\n",
    "import pandas as pd\n",
    "from zipfile import ZipFile\n",
    "\n",
    "# Read in a zipped CSV HTML response\n",
    "\n",
    "origin_table_do_not_modify = pd.DataFrame()\n",
    "zip_data = BytesIO(latest_data.content)\n",
    "csv_filename = None\n",
    "\n",
    "# Open the zip file\n",
    "with ZipFile(zip_data) as zip_file:\n",
    "    for name in zip_file.namelist():\n",
    "        if name.endswith(\".csv\"):\n",
    "            csv_filename = name\n",
    "            with zip_file.open(name) as csv_file:\n",
    "                origin_table_do_not_modify = pd.read_csv(\n",
    "                    csv_file,\n",
    "                    dtype={\"start_station_id\": str, \"end_station_id\": str},\n",
    "                    converters={\"start_lat\": Decimal}\n",
    "                )\n",
    "                break\n"
   ]
  },
  {
   "cell_type": "markdown",
   "metadata": {},
   "source": [
    "### Coordinate Inconsistencies\n",
    "\n",
    "There are a small fraction of stations which have variable `start_lat` values for a given `start_station_id`. In this sample, it is only 5 stations, which is 0.33% of stations."
   ]
  },
  {
   "cell_type": "code",
   "execution_count": 34,
   "metadata": {},
   "outputs": [],
   "source": [
    "# Remove rows with missing station IDs\n",
    "non_null_station_ids = origin_table_do_not_modify.dropna(subset=['start_station_id', 'end_station_id'])"
   ]
  },
  {
   "cell_type": "code",
   "execution_count": 16,
   "metadata": {},
   "outputs": [
    {
     "name": "stdout",
     "output_type": "stream",
     "text": [
      "How many stations have more than one unique `start_lat` value? And how many values do they have?\n",
      "start_station_id\n",
      "5788.13         5\n",
      "6569.09         4\n",
      "5230.02         2\n",
      "4001.09         2\n",
      "5204.05         2\n",
      "               ..\n",
      "5225.04         1\n",
      "5225.02         1\n",
      "5219.05         1\n",
      "5217.03         1\n",
      "Shop Morgan     1\n",
      "Name: start_lat, Length: 2138, dtype: int64\n",
      "\n",
      "\n",
      "\n",
      "\n",
      "What percentage of stations have more than one unique `start_lat` value?\n",
      "0.3274087932647334\n"
     ]
    }
   ],
   "source": [
    "#  Get the number of unique `start_lat` values for each `start_station_id`\n",
    "unique_start_lat_counts = non_null_station_ids.groupby('start_station_id')['start_lat'].nunique().sort_values(ascending=False)\n",
    "print(\"How many stations have more than one unique `start_lat` value? And how many values do they have?\")\n",
    "print(unique_start_lat_counts)\n",
    "print(\"\\n\\n\\n\")\n",
    "# There are only 7 stations with more than one unique `start_lat` value. This is 0.33% of stations.\n",
    "print(\"What percentage of stations have more than one unique `start_lat` value?\")\n",
    "print(100 * unique_start_lat_counts[unique_start_lat_counts > 1].shape[0] / unique_start_lat_counts.shape[0])\n"
   ]
  },
  {
   "cell_type": "code",
   "execution_count": 27,
   "metadata": {},
   "outputs": [
    {
     "name": "stdout",
     "output_type": "stream",
     "text": [
      "What is the breakdown of these variable start_lat values?\n",
      "Station 5788.13 has 5 unique `start_lat` values\n",
      "start_lat\n",
      "40.73020660529954    2965\n",
      "40.730251551            1\n",
      "40.730248094            1\n",
      "40.730335832            1\n",
      "40.730383039            1\n",
      "Name: count, dtype: int64\n",
      "\n",
      "\n",
      "\n",
      "Station 6569.09 has 4 unique `start_lat` values\n",
      "start_lat\n",
      "40.75414519263519    681\n",
      "40.754180074           1\n",
      "40.754176259           1\n",
      "40.754261613           1\n",
      "Name: count, dtype: int64\n",
      "\n",
      "\n",
      "\n",
      "Station 5230.02 has 2 unique `start_lat` values\n",
      "start_lat\n",
      "40.71332151208186    649\n",
      "40.713014007           1\n",
      "Name: count, dtype: int64\n",
      "\n",
      "\n",
      "\n",
      "Station 4001.09 has 2 unique `start_lat` values\n",
      "start_lat\n",
      "40.6737236      596\n",
      "40.673810124      1\n",
      "Name: count, dtype: int64\n",
      "\n",
      "\n",
      "\n",
      "Station 5204.05 has 2 unique `start_lat` values\n",
      "start_lat\n",
      "40.71285887     1654\n",
      "40.712882996       1\n",
      "Name: count, dtype: int64\n",
      "\n",
      "\n",
      "\n",
      "Station 6611.07 has 2 unique `start_lat` values\n",
      "start_lat\n",
      "40.75676475086503    863\n",
      "40.757083774           1\n",
      "Name: count, dtype: int64\n",
      "\n",
      "\n",
      "\n",
      "Station 5332.10 has 2 unique `start_lat` values\n",
      "start_lat\n",
      "40.71638031973561    362\n",
      "40.716277957           1\n",
      "Name: count, dtype: int64\n",
      "\n",
      "\n",
      "\n"
     ]
    }
   ],
   "source": [
    "\n",
    "# One of the stations, 5788.13 has 5 unique `start_lat` values. Four of them have only one trip, the other 2965 have the same `start_lat`\n",
    "non_null_station_ids[non_null_station_ids.start_station_id == '5788.13'].start_lat.value_counts()\n",
    "stations_w_multiple_start_lats = unique_start_lat_counts[unique_start_lat_counts > 1]\n",
    "\n",
    "print(\"What is the breakdown of these variable start_lat values?\")\n",
    "for station_id in stations_w_multiple_start_lats.index:\n",
    "    print(f\"Station {station_id} has {stations_w_multiple_start_lats[station_id]} unique `start_lat` values\")\n",
    "    print(non_null_station_ids[non_null_station_ids.start_station_id == station_id].start_lat.value_counts())\n",
    "    print(\"\\n\\n\")"
   ]
  },
  {
   "cell_type": "code",
   "execution_count": 40,
   "metadata": {},
   "outputs": [
    {
     "name": "stdout",
     "output_type": "stream",
     "text": [
      "0                 40.823061\n",
      "3         40.73153937464073\n",
      "4               40.76030096\n",
      "5         40.73153937464073\n",
      "6             40.6896218879\n",
      "                ...        \n",
      "999995           40.7459849\n",
      "999996             40.72028\n",
      "999997           40.8025566\n",
      "999998          40.72405549\n",
      "999999            40.843079\n",
      "Name: start_lat, Length: 995161, dtype: object\n"
     ]
    },
    {
     "data": {
      "text/plain": [
       "dtype('O')"
      ]
     },
     "execution_count": 40,
     "metadata": {},
     "output_type": "execute_result"
    }
   ],
   "source": [
    "print(non_null_station_ids.start_lat)\n",
    "non_null_station_ids.start_lat.dtype"
   ]
  },
  {
   "cell_type": "markdown",
   "metadata": {},
   "source": [
    "### Do these inconsistent values appear elsewhere?\n",
    "\n",
    "I wanted to find out if perhaps these random latitude values are being assigned from another dock. That doesn't appear to be the case. Searching for one of the other values only brings up the result from the original dock"
   ]
  },
  {
   "cell_type": "code",
   "execution_count": 45,
   "metadata": {},
   "outputs": [
    {
     "name": "stdout",
     "output_type": "stream",
     "text": [
      "0         False\n",
      "1         False\n",
      "2         False\n",
      "3         False\n",
      "4         False\n",
      "          ...  \n",
      "999995    False\n",
      "999996    False\n",
      "999997    False\n",
      "999998    False\n",
      "999999    False\n",
      "Name: start_lat, Length: 1000000, dtype: bool\n"
     ]
    },
    {
     "data": {
      "text/html": [
       "<div>\n",
       "<style scoped>\n",
       "    .dataframe tbody tr th:only-of-type {\n",
       "        vertical-align: middle;\n",
       "    }\n",
       "\n",
       "    .dataframe tbody tr th {\n",
       "        vertical-align: top;\n",
       "    }\n",
       "\n",
       "    .dataframe thead th {\n",
       "        text-align: right;\n",
       "    }\n",
       "</style>\n",
       "<table border=\"1\" class=\"dataframe\">\n",
       "  <thead>\n",
       "    <tr style=\"text-align: right;\">\n",
       "      <th></th>\n",
       "      <th>ride_id</th>\n",
       "      <th>rideable_type</th>\n",
       "      <th>started_at</th>\n",
       "      <th>ended_at</th>\n",
       "      <th>start_station_name</th>\n",
       "      <th>start_station_id</th>\n",
       "      <th>end_station_name</th>\n",
       "      <th>end_station_id</th>\n",
       "      <th>start_lat</th>\n",
       "      <th>start_lng</th>\n",
       "      <th>end_lat</th>\n",
       "      <th>end_lng</th>\n",
       "      <th>member_casual</th>\n",
       "    </tr>\n",
       "  </thead>\n",
       "  <tbody>\n",
       "    <tr>\n",
       "      <th>387588</th>\n",
       "      <td>7EC976A47331555A</td>\n",
       "      <td>electric_bike</td>\n",
       "      <td>2024-12-11 17:12:54.480</td>\n",
       "      <td>2024-12-11 17:22:06.101</td>\n",
       "      <td>W 35 St &amp; 9 Ave</td>\n",
       "      <td>6569.09</td>\n",
       "      <td>Lexington Ave &amp; E 26 St</td>\n",
       "      <td>6089.08</td>\n",
       "      <td>40.754180074</td>\n",
       "      <td>-73.996227</td>\n",
       "      <td>40.741459</td>\n",
       "      <td>-73.983293</td>\n",
       "      <td>member</td>\n",
       "    </tr>\n",
       "  </tbody>\n",
       "</table>\n",
       "</div>"
      ],
      "text/plain": [
       "                 ride_id  rideable_type               started_at  \\\n",
       "387588  7EC976A47331555A  electric_bike  2024-12-11 17:12:54.480   \n",
       "\n",
       "                       ended_at start_station_name start_station_id  \\\n",
       "387588  2024-12-11 17:22:06.101    W 35 St & 9 Ave          6569.09   \n",
       "\n",
       "               end_station_name end_station_id     start_lat  start_lng  \\\n",
       "387588  Lexington Ave & E 26 St        6089.08  40.754180074 -73.996227   \n",
       "\n",
       "          end_lat    end_lng member_casual  \n",
       "387588  40.741459 -73.983293        member  "
      ]
     },
     "execution_count": 45,
     "metadata": {},
     "output_type": "execute_result"
    }
   ],
   "source": [
    "\n",
    "input_decimal = Decimal('40.754180074')\n",
    "\n",
    "# Compare the decimal type of start_lat to the input decimal\n",
    "is_equal = origin_table_do_not_modify['start_lat'].apply(lambda x: Decimal(x) == input_decimal)\n",
    "\n",
    "# Print the result\n",
    "print(is_equal)\n",
    "\n",
    "df = origin_table_do_not_modify[is_equal]\n",
    "df"
   ]
  },
  {
   "cell_type": "markdown",
   "metadata": {},
   "source": [
    "### Do dock names stay consistent?\n",
    "Yes, at least within a single file."
   ]
  },
  {
   "cell_type": "code",
   "execution_count": 51,
   "metadata": {},
   "outputs": [
    {
     "data": {
      "text/plain": [
       "start_station_id\n",
       "2733.03         1\n",
       "6824.07         1\n",
       "6854.05         1\n",
       "6850.01         1\n",
       "6848.04         1\n",
       "               ..\n",
       "5225.04         1\n",
       "5225.02         1\n",
       "5219.05         1\n",
       "5217.03         1\n",
       "Shop Morgan     1\n",
       "Name: start_station_name, Length: 2138, dtype: int64"
      ]
     },
     "execution_count": 51,
     "metadata": {},
     "output_type": "execute_result"
    }
   ],
   "source": [
    "origin_table_do_not_modify.groupby('start_station_id')['start_station_name'].nunique().sort_values(ascending=False)"
   ]
  },
  {
   "cell_type": "code",
   "execution_count": 54,
   "metadata": {},
   "outputs": [
    {
     "data": {
      "text/plain": [
       "2138"
      ]
     },
     "execution_count": 54,
     "metadata": {},
     "output_type": "execute_result"
    }
   ],
   "source": [
    "origin_table_do_not_modify['start_station_id'].nunique()"
   ]
  }
 ],
 "metadata": {
  "kernelspec": {
   "display_name": "citibike",
   "language": "python",
   "name": "python3"
  },
  "language_info": {
   "codemirror_mode": {
    "name": "ipython",
    "version": 3
   },
   "file_extension": ".py",
   "mimetype": "text/x-python",
   "name": "python",
   "nbconvert_exporter": "python",
   "pygments_lexer": "ipython3",
   "version": "3.12.9"
  }
 },
 "nbformat": 4,
 "nbformat_minor": 2
}
